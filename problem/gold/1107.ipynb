{
 "cells": [
  {
   "cell_type": "markdown",
   "metadata": {},
   "source": [
    "# 1107. 리모컨\n",
    "\n",
    "### Problem : https://www.acmicpc.net/problem/1107\n",
    "\n",
    "---\n",
    "\n",
    "수빈이는 TV를 보고 있다. 수빈이는 채널을 돌리려고 했지만, 버튼을 너무 세게 누르는 바람에, 일부 숫자 버튼이 고장났다.\n",
    "\n",
    "리모컨에는 버튼이 0부터 9까지 숫자, +와 -가 있다. +를 누르면 현재 보고있는 채널에서 +1된 채널로 이동하고, -를 누르면 -1된 채널로 이동한다. 채널 0에서 -를 누른 경우에는 채널이 변하지 않고, 채널은 무한대 만큼 있다.\n",
    "\n",
    "수빈이가 지금 이동하려고 하는 채널은 N이다. 어떤 버튼이 고장났는지 주어졌을 때, 채널 N으로 이동하기 위해서 버튼을 최소 몇 번 눌러야하는지 구하는 프로그램을 작성하시오. \n",
    "\n",
    "수빈이가 지금 보고 있는 채널은 100번이다.\n",
    "\n",
    "---\n",
    "\n",
    "### 입력\n",
    "\n",
    "첫째 줄에 수빈이가 이동하려고 하는 채널 N (0 ≤ N ≤ 500,000)이 주어진다.  둘째 줄에는 고장난 버튼의 개수 M (0 ≤ M ≤ 10)이 주어진다. 고장난 버튼이 있는 경우에는 셋째 줄에는 고장난 버튼이 주어지며, 같은 버튼이 여러 번 주어지는 경우는 없다.\n",
    "\n",
    "### 출력\n",
    "\n",
    "첫째 줄에 채널 N으로 이동하기 위해 버튼을 최소 몇 번 눌러야 하는지를 출력한다."
   ]
  },
  {
   "cell_type": "markdown",
   "metadata": {},
   "source": [
    "---\n",
    "\n",
    "### 문제 접근법\n",
    "\n",
    "수빈이가 채널을 돌릴 방법은 두 가지 경우가 존재한다.\n",
    "\n",
    "1. 초기 채널에서 +, -를 조합하여 이동.\n",
    "2. 망가지지 않은 숫자 버튼을 조합하여 채널을 입력한 후, +, -를 조합하여 이동\n",
    "\n",
    "2번의 경우는 모든 조합 경우의 수를 탐색하여야 하며, 이 때 채널 N의 경우의 수는 500000까지이므로 총 6자리까지 조합을 하여야 한다. 즉 최악의 경우는 10^6개의 경우의 수를 탐색하여야 하며, 이는 문제 시간/메모리 조건 내에 들어가므로 충분히 시도해 볼 만 하다. 따라서 브루트 포스를 적용해보도록 한다."
   ]
  },
  {
   "cell_type": "code",
   "execution_count": 8,
   "metadata": {},
   "outputs": [
    {
     "name": "stdout",
     "output_type": "stream",
     "text": [
      "1\n",
      "0\n",
      "1\n"
     ]
    }
   ],
   "source": [
    "n = int(input())\n",
    "m = int(input())\n",
    "lst = []\n",
    "if m > 0 :\n",
    "    lst = input().split()\n",
    "\n",
    "chk = abs(100 - n)\n",
    "for i in range(1000001):\n",
    "    for j in str(i):\n",
    "        if j in lst :\n",
    "            break\n",
    "    else:\n",
    "        chk = min(chk, len(str(i)) + abs(n - i))\n",
    "\n",
    "print(chk)"
   ]
  },
  {
   "cell_type": "markdown",
   "metadata": {},
   "source": [
    "### NOTE\n",
    "\n",
    "위 풀이에 앞서, 누를 수 있는 버튼의 경우의 수를 이용해서 풀이해보았었다. 하지만 더 성능이 좋지 않게 나왔음을 알린다(python3에서는 시간 초과, pypy3에서는 간신히 통과)"
   ]
  },
  {
   "cell_type": "code",
   "execution_count": 1,
   "metadata": {},
   "outputs": [
    {
     "name": "stdout",
     "output_type": "stream",
     "text": [
      "80000\n",
      "2\n",
      "8 9\n",
      "[0, 1, 2, 3, 4, 5, 6, 7]\n"
     ]
    }
   ],
   "source": [
    "n = int(input())\n",
    "m = int(input())\n",
    "lst = list(range(10))\n",
    "if m > 0 :\n",
    "    n_lst = map(int, input().split())\n",
    "    lst = list(set(lst) - set(n_lst))\n",
    "print(lst)"
   ]
  },
  {
   "cell_type": "markdown",
   "metadata": {},
   "source": [
    "이 때 조합 검색 범위를 좁혀본다면, 목표로 하는 채널의 자릿값 + 1까지 탐색을 진행하면 된다. 예를 들어 500 채널은 1000(4자리)까지의 범위에서 탐색을 진행하는 것이 효율적일 것이다. 좀 더 제약사항이 많겠지만 기본 원리는 변하지 않는다. 이를 토대로 조합을 검색한다.\n",
    "\n",
    "이 때 조합이 되는 채널의 버튼 입력 횟수는 (입력한 채널의 자릿수) + (입력한 채널과 목표 채널의 차)가 될 것이다.\n",
    "\n",
    "이들 중복조합은 파이썬 itertools 라이브러리의 product로 구할 수 있다. 이를 검색해보도록 한다."
   ]
  },
  {
   "cell_type": "code",
   "execution_count": 2,
   "metadata": {},
   "outputs": [
    {
     "name": "stdout",
     "output_type": "stream",
     "text": [
      "2228\n"
     ]
    }
   ],
   "source": [
    "from itertools import product\n",
    "\n",
    "chk = abs(100 - n)\n",
    "p = len(str(n))\n",
    "\n",
    "for i in range(1, p+1):\n",
    "    for x in product(lst, repeat=i):\n",
    "        num = int(''.join(map(str,x)))\n",
    "        chk = min(chk, len(str(num)) + abs(n - num))\n",
    "\n",
    "print(chk)"
   ]
  },
  {
   "cell_type": "markdown",
   "metadata": {},
   "source": [
    "코드를 하나로 합치면 다음과 같다 :"
   ]
  },
  {
   "cell_type": "code",
   "execution_count": 4,
   "metadata": {},
   "outputs": [
    {
     "name": "stdout",
     "output_type": "stream",
     "text": [
      "1\n",
      "9\n",
      "1 2 3 4 5 6 7 8 9\n",
      "2\n"
     ]
    }
   ],
   "source": [
    "from itertools import product\n",
    "\n",
    "n = int(input())\n",
    "m = int(input())\n",
    "lst = list(range(10))\n",
    "if m > 0 :\n",
    "    n_lst = map(int, input().split())\n",
    "    lst = list(set(lst) - set(n_lst))\n",
    "\n",
    "chk = abs(100 - n)\n",
    "p = len(str(n))\n",
    "\n",
    "for i in range(1, p+2):\n",
    "    for x in product(lst, repeat=i):\n",
    "        num = int(''.join(map(str,x)))\n",
    "        chk = min(chk, len(str(num)) + abs(n - num))\n",
    "    \n",
    "print(chk)"
   ]
  }
 ],
 "metadata": {
  "kernelspec": {
   "display_name": "Python 3",
   "language": "python",
   "name": "python3"
  },
  "language_info": {
   "codemirror_mode": {
    "name": "ipython",
    "version": 3
   },
   "file_extension": ".py",
   "mimetype": "text/x-python",
   "name": "python",
   "nbconvert_exporter": "python",
   "pygments_lexer": "ipython3",
   "version": "3.8.3"
  }
 },
 "nbformat": 4,
 "nbformat_minor": 4
}
