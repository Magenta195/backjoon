{
 "cells": [
  {
   "cell_type": "markdown",
   "metadata": {},
   "source": [
    "# 10026. 적록색약\n",
    "\n",
    "### Problem : https://www.acmicpc.net/problem/10026\n",
    "\n",
    "---\n",
    "\n",
    "적록색약은 빨간색과 초록색의 차이를 거의 느끼지 못한다. 따라서, 적록색약인 사람이 보는 그림은 아닌 사람이 보는 그림과는 좀 다를 수 있다.\n",
    "\n",
    "크기가 N×N인 그리드의 각 칸에 R(빨강), G(초록), B(파랑) 중 하나를 색칠한 그림이 있다. 그림은 몇 개의 구역으로 나뉘어져 있는데, 구역은 같은 색으로 이루어져 있다. 또, 같은 색상이 상하좌우로 인접해 있는 경우에 두 글자는 같은 구역에 속한다. (색상의 차이를 거의 느끼지 못하는 경우도 같은 색상이라 한다)\n",
    "\n",
    "예를 들어, 그림이 아래와 같은 경우에\n",
    "```\n",
    "RRRBB\n",
    "GGBBB\n",
    "BBBRR\n",
    "BBRRR\n",
    "RRRRR\n",
    "```\n",
    "적록색약이 아닌 사람이 봤을 때 구역의 수는 총 4개이다. (빨강 2, 파랑 1, 초록 1) 하지만, 적록색약인 사람은 구역을 3개 볼 수 있다. (빨강-초록 2, 파랑 1)\n",
    "\n",
    "그림이 입력으로 주어졌을 때, 적록색약인 사람이 봤을 때와 아닌 사람이 봤을 때 구역의 수를 구하는 프로그램을 작성하시오.\n",
    "\n",
    "---\n",
    "\n",
    "### 입력\n",
    "\n",
    "첫째 줄에 N이 주어진다. (1 ≤ N ≤ 100)\n",
    "\n",
    "둘째 줄부터 N개 줄에는 그림이 주어진다.\n",
    "\n",
    "### 출력\n",
    "\n",
    "적록색약이 아닌 사람이 봤을 때의 구역의 개수와 적록색약인 사람이 봤을 때의 구역의 수를 공백으로 구분해 출력한다."
   ]
  },
  {
   "cell_type": "markdown",
   "metadata": {},
   "source": [
    "---\n",
    "\n",
    "### 문제 접근법\n",
    "\n",
    "* 구획을 구하는 문제의 경우 모든 점을 방문할 때까지 탐색을 반복하면 된다.\n",
    "* 탐색을 총 두 번 진행하면 된다. 한번은 R=G, 한번은 R, G, B를 구분하면 된다."
   ]
  },
  {
   "cell_type": "code",
   "execution_count": 1,
   "metadata": {},
   "outputs": [
    {
     "name": "stdout",
     "output_type": "stream",
     "text": [
      "5\n",
      "RRRBB\n",
      "GGBBB\n",
      "BBBRR\n",
      "BBRRR\n",
      "RRRRR\n",
      "4 3\n"
     ]
    }
   ],
   "source": [
    "import sys\n",
    "# input = sys.stdin.readline\n",
    "\n",
    "n = int(input())\n",
    "e = [input().strip() for _ in range(n)]\n",
    "     \n",
    "dx = [-1, 1, 0, 0]\n",
    "dy = [0, 0, -1, 1]\n",
    "\n",
    "def search(RG):\n",
    "    v = [[0]*n for _ in range(n)]\n",
    "    cnt = 0\n",
    "\n",
    "    for i in range(n):\n",
    "        for j in range(n):\n",
    "            if v[j][i] == 0 :\n",
    "                q = [(i,j)]\n",
    "                c = 'R' if RG and e[j][i] == 'G' else e[j][i]\n",
    "                cnt += 1\n",
    "                while q :\n",
    "                    x, y = q.pop(0)\n",
    "                    for k in range(4):\n",
    "                        ax = x+dx[k]\n",
    "                        ay = y+dy[k]\n",
    "                        if -1<ax<n and -1<ay<n :\n",
    "                            dc = 'R' if RG and e[ay][ax] == 'G' else e[ay][ax] \n",
    "                            if v[ay][ax] == 0 and c == dc:\n",
    "                                v[ay][ax] += 1\n",
    "                                q.append((ax, ay))\n",
    "    return cnt\n",
    "\n",
    "print(search(False), search(True))"
   ]
  },
  {
   "cell_type": "markdown",
   "metadata": {},
   "source": [
    "### NOTE"
   ]
  }
 ],
 "metadata": {
  "kernelspec": {
   "display_name": "Python 3",
   "language": "python",
   "name": "python3"
  },
  "language_info": {
   "codemirror_mode": {
    "name": "ipython",
    "version": 3
   },
   "file_extension": ".py",
   "mimetype": "text/x-python",
   "name": "python",
   "nbconvert_exporter": "python",
   "pygments_lexer": "ipython3",
   "version": "3.8.3"
  }
 },
 "nbformat": 4,
 "nbformat_minor": 4
}
