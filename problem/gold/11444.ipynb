{
 "cells": [
  {
   "cell_type": "markdown",
   "metadata": {},
   "source": [
    "# 11444. 피보나치 수 6\n",
    "\n",
    "### Problem : https://www.acmicpc.net/problem/11444\n",
    "\n",
    "---\n",
    "\n",
    "피보나치 수는 0과 1로 시작한다. 0번째 피보나치 수는 0이고, 1번째 피보나치 수는 1이다. 그 다음 2번째 부터는 바로 앞 두 피보나치 수의 합이 된다.\n",
    "\n",
    "이를 식으로 써보면 Fn = Fn-1 + Fn-2 (n ≥ 2)가 된다.\n",
    "\n",
    "n=17일때 까지 피보나치 수를 써보면 다음과 같다.\n",
    "\n",
    "0, 1, 1, 2, 3, 5, 8, 13, 21, 34, 55, 89, 144, 233, 377, 610, 987, 1597\n",
    "\n",
    "n이 주어졌을 때, n번째 피보나치 수를 구하는 프로그램을 작성하시오.\n",
    "\n",
    "---\n",
    "\n",
    "### 입력\n",
    "\n",
    "첫째 줄에 n이 주어진다. n은 1,000,000,000,000,000,000보다 작거나 같은 자연수이다.\n",
    "\n",
    "### 출력\n",
    "\n",
    "첫째 줄에 n번째 피보나치 수를 1,000,000,007으로 나눈 나머지를 출력한다."
   ]
  },
  {
   "cell_type": "markdown",
   "metadata": {},
   "source": [
    "---\n",
    "\n",
    "### 문제 접근법\n",
    "\n",
    "다이나믹 프로그래밍을 사용할 경우 O(n) 시간복잡도가 소요되므로 적용할 수 없다. 따라서 다른 방법을 생각해 보아야 한다.\n",
    "한참 동안 생각해봐도 답이 나오질 않았는데, 백준 님의 블로그에 따르면(https://www.acmicpc.net/blog/view/28) 피보나치 수열은 다음과 같은 행렬 문제로 볼 수 있다고 한다.\n",
    "\n",
    "$$ \\begin{pmatrix} F_{n+1} & F_{n} \\\\ F_{n} & F_{n-1} \\end{pmatrix} = \\begin{pmatrix} 1 & 1 \\\\ 1 & 0 \\end{pmatrix}^n $$\n",
    "\n",
    "\n",
    "따라서, 행렬의 거듭제곱을 재귀 문제로 해결하면 문제의 시간 및 메모리 제한 내에 문제를 해결할 수 있다. 먼저 행렬곱을 연산하는 함수를 정의하자."
   ]
  },
  {
   "cell_type": "code",
   "execution_count": 1,
   "metadata": {},
   "outputs": [],
   "source": [
    "def matmul(a, b): ### a, b는 2 by 2 matrix\n",
    "    c = [[0]*2 for _ in range(2)]\n",
    "    for i in range(2):\n",
    "        for j in range(2):\n",
    "            for k in range(2):\n",
    "                c[i][j] += a[i][k]*b[k][j]\n",
    "            c[i][j] %= 1000000007\n",
    "    return c"
   ]
  },
  {
   "cell_type": "markdown",
   "metadata": {},
   "source": [
    "이 matmul을 행렬이 n제곱일 때 적용하려면, 거듭제곱을 나누어 연산하도록 한다. 이 거듭제곱을 통하여 시간복잡도를 O(n)에서 O(logn)으로 줄일 수 있다. 함수는 다음과 같이 정의할 수 있다."
   ]
  },
  {
   "cell_type": "code",
   "execution_count": 2,
   "metadata": {},
   "outputs": [],
   "source": [
    "def matpower(a, n):\n",
    "    if n == 1:\n",
    "        return a\n",
    "    \n",
    "    m = matpower(a, n//2)\n",
    "    \n",
    "    if n % 2 == 1 :\n",
    "        return matmul(matmul(m, m), a)\n",
    "    else :\n",
    "        return matmul(m, m)"
   ]
  },
  {
   "cell_type": "markdown",
   "metadata": {},
   "source": [
    "가령 n이 10일 때, 위 행렬의 10제곱은 다음과 같이 계산될 것이다."
   ]
  },
  {
   "cell_type": "code",
   "execution_count": 3,
   "metadata": {},
   "outputs": [
    {
     "name": "stdout",
     "output_type": "stream",
     "text": [
      "[[89, 55], [55, 34]]\n"
     ]
    }
   ],
   "source": [
    "mat = [[1, 1], [1, 0]]\n",
    "n = 10\n",
    "print(matpower(mat, n))"
   ]
  },
  {
   "cell_type": "markdown",
   "metadata": {},
   "source": [
    "이 때 행렬 계산결과의 1열 2행이 우리가 구하는 n번째 피보나치 수열의 값이 된다. 위를 함수를 이용한 최종 코드는 다음과 같다 :"
   ]
  },
  {
   "cell_type": "code",
   "execution_count": 4,
   "metadata": {},
   "outputs": [
    {
     "name": "stdout",
     "output_type": "stream",
     "text": [
      "1000\n",
      "517691607\n"
     ]
    }
   ],
   "source": [
    "def matmul(a, b): ### a, b는 2 by 2 matrix\n",
    "    c = [[0]*2 for _ in range(2)]\n",
    "    for i in range(2):\n",
    "        for j in range(2):\n",
    "            for k in range(2):\n",
    "                c[i][j] += a[i][k]*b[k][j]\n",
    "            c[i][j] %= 1000000007\n",
    "    return c\n",
    "\n",
    "def matpower(a, n):\n",
    "    if n == 1:\n",
    "        return a\n",
    "    \n",
    "    m = matpower(a, n//2)\n",
    "    \n",
    "    if n % 2 == 1 :\n",
    "        return matmul(matmul(m, m), a)\n",
    "    else :\n",
    "        return matmul(m, m)\n",
    "\n",
    "mat = [[1, 1], [1, 0]]\n",
    "n = int(input())\n",
    "print(matpower(mat, n)[1][0] if n > 0 else 0)"
   ]
  },
  {
   "cell_type": "markdown",
   "metadata": {},
   "source": [
    "### NOTE\n",
    "\n",
    "위 행렬식을 유도해 보도록 하자.\n",
    "\n",
    "$$ F_{n+1} = F_{n} + F_{n-1} $$\n",
    "\n",
    "이고,\n",
    "\n",
    "$$ F_{n} = F_{n} + 0 $$\n",
    "\n",
    "으로 볼 수 있다. 이를 행렬식으로 변환하면\n",
    "\n",
    "$$ {F_{n+1} \\choose F_{n}} = \\begin{pmatrix} 1 & 1 \\\\ 1 & 0 \\end{pmatrix} {F_{n} \\choose F_{n-1}} $$\n",
    "\n",
    "가 된다. n 대신 n-1을 대입하면\n",
    "\n",
    "$$ {F_{n} \\choose F_{n-1}} = \\begin{pmatrix} 1 & 1 \\\\ 1 & 0 \\end{pmatrix} {F_{n-1} \\choose F_{n-2}} $$\n",
    "\n",
    "가 되고, 이를 하나로 합치면\n",
    "\n",
    "$$ \\begin{pmatrix} F_{n+1} & F_{n} \\\\ F_{n} & F_{n-1} \\end{pmatrix} = \\begin{pmatrix} 1 & 1 \\\\ 1 & 0 \\end{pmatrix} \\begin{pmatrix} F_{n} & F_{n-1} \\\\ F_{n-1} & F_{n-2} \\end{pmatrix} $$\n",
    "\n",
    "로 정리할 수 있다. 이는 귀납적으로 정의되는 수식이며, $ F_{0} = 0, F_{1}, F_{2} = 1 $ 이므로 이를 계속하여 정리하면\n",
    "\n",
    "$$ \\begin{pmatrix} F_{n+1} & F_{n} \\\\ F_{n} & F_{n-1} \\end{pmatrix} = \\begin{pmatrix} 1 & 1 \\\\ 1 & 0 \\end{pmatrix}^{n-1} \\begin{pmatrix} F_{2} & F_{1} \\\\ F_{1} & F_{0} \\end{pmatrix} =  \\begin{pmatrix} 1 & 1 \\\\ 1 & 0 \\end{pmatrix}^{n-1}  \\begin{pmatrix} 1 & 1 \\\\ 1 & 0 \\end{pmatrix} =  \\begin{pmatrix} 1 & 1 \\\\ 1 & 0 \\end{pmatrix}^{n}$$\n",
    "\n",
    "이 된다."
   ]
  }
 ],
 "metadata": {
  "kernelspec": {
   "display_name": "Python 3",
   "language": "python",
   "name": "python3"
  },
  "language_info": {
   "codemirror_mode": {
    "name": "ipython",
    "version": 3
   },
   "file_extension": ".py",
   "mimetype": "text/x-python",
   "name": "python",
   "nbconvert_exporter": "python",
   "pygments_lexer": "ipython3",
   "version": "3.8.3"
  }
 },
 "nbformat": 4,
 "nbformat_minor": 4
}
