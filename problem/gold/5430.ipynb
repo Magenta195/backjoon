{
 "cells": [
  {
   "cell_type": "markdown",
   "metadata": {},
   "source": [
    "# 5430. AC\n",
    "\n",
    "### Problem : https://www.acmicpc.net/problem/5430\n",
    "\n",
    "---\n",
    "\n",
    "선영이는 주말에 할 일이 없어서 새로운 언어 AC를 만들었다. AC는 정수 배열에 연산을 하기 위해 만든 언어이다. 이 언어에는 두 가지 함수 R(뒤집기)과 D(버리기)가 있다.\n",
    "\n",
    "함수 R은 배열에 있는 수의 순서를 뒤집는 함수이고, D는 첫 번째 수를 버리는 함수이다. 배열이 비어있는데 D를 사용한 경우에는 에러가 발생한다.\n",
    "\n",
    "함수는 조합해서 한 번에 사용할 수 있다. 예를 들어, \"AB\"는 A를 수행한 다음에 바로 이어서 B를 수행하는 함수이다. 예를 들어, \"RDD\"는 배열을 뒤집은 다음 처음 두 수를 버리는 함수이다.\n",
    "\n",
    "배열의 초기값과 수행할 함수가 주어졌을 때, 최종 결과를 구하는 프로그램을 작성하시오.\n",
    "\n",
    "---\n",
    "\n",
    "### 입력\n",
    "\n",
    "첫째 줄에 테스트 케이스의 개수 T가 주어진다. T는 최대 100이다.\n",
    "\n",
    "각 테스트 케이스의 첫째 줄에는 수행할 함수 p가 주어진다. p의 길이는 1보다 크거나 같고, 100,000보다 작거나 같다.\n",
    "\n",
    "다음 줄에는 배열에 들어있는 수의 개수 n이 주어진다. (0 ≤ n ≤ 100,000)\n",
    "\n",
    "다음 줄에는 [x1,...,xn]과 같은 형태로 배열에 들어있는 정수가 주어진다. (1 ≤ xi ≤ 100)\n",
    "\n",
    "전체 테스트 케이스에 주어지는 p의 길이의 합과 n의 합은 70만을 넘지 않는다.\n",
    "\n",
    "### 출력\n",
    "\n",
    "각 테스트 케이스에 대해서, 입력으로 주어진 정수 배열에 함수를 수행한 결과를 출력한다. 만약, 에러가 발생한 경우에는 error를 출력한다."
   ]
  },
  {
   "cell_type": "markdown",
   "metadata": {},
   "source": [
    "---\n",
    "\n",
    "### 문제 접근법\n",
    "\n",
    "구현 문제라고 가정하고 문제를 풀이하도록 한다.\n",
    "\n",
    "* R : reversed 함수를 사용할 수도 있으나, 함수호출이 100000까지 커질 수 있으므로 실제 접근법은 달라야 한다.\n",
    "* D : delete. pop 함수를 사용 가능하다. 배열의 크기가 최대 100개를 넘지 못하므로, 최대 101번의 함수가 호출될 수 있다. 이 경우는 시간 제한 내에 가능한 수치라고 가정하고 pop 함수를 그대로 사용한다.\n",
    "\n",
    "* 배열 데이터의 처리 : [, ] 문자를 제거하고, ','를 기준으로 split()하면 된다.\n",
    "\n",
    "구체적인 코드는 다음과 같이 작성하였다."
   ]
  },
  {
   "cell_type": "markdown",
   "metadata": {},
   "source": [
    "```\n",
    "import sys\n",
    "\n",
    "n = int(sys.stdin.readline())\n",
    "for _ in range(n):\n",
    "    func = sys.stdin.readline().strip()\n",
    "    d = int(sys.stdin.readline())\n",
    "    lst = sys.stdin.readline().strip('[ ] \\n').split(',')\n",
    "    p = 0\n",
    "    flg = True\n",
    "    for i in func :\n",
    "        if i == 'R' :\n",
    "            p = 0 if p == -1 else -1\n",
    "        else : \n",
    "            if d < 1 :\n",
    "                print('error')\n",
    "                flg = False\n",
    "                break\n",
    "            lst.pop(p)\n",
    "            d -= 1\n",
    "    if p != 0 : lst.reverse()\n",
    "    if flg : print('['+','.join(lst)+']')\n",
    "```"
   ]
  },
  {
   "cell_type": "markdown",
   "metadata": {},
   "source": [
    "### NOTE\n",
    "\n",
    "* collections의 deque를 사용하면 더 효율적으로 계산이 가능하다.\n",
    "* 혹은, 아래와 같이 list index를 활용하면 더 빠른 계산이 가능하다.\n"
   ]
  },
  {
   "cell_type": "markdown",
   "metadata": {},
   "source": [
    "```\n",
    "import sys\n",
    "\n",
    "n = int(sys.stdin.readline())\n",
    "for _ in range(n):\n",
    "    func = sys.stdin.readline().strip()\n",
    "    d = int(sys.stdin.readline())\n",
    "    lst = sys.stdin.readline().strip('[ ] \\n').split(',')\n",
    "    p, l, r = 0, 0, d\n",
    "    flg = True\n",
    "\n",
    "    for i in func :\n",
    "        if i == 'R' :\n",
    "            p = 0 if p == -1 else -1\n",
    "        else : \n",
    "            if d < 1 :\n",
    "                print('error')\n",
    "                flg = False\n",
    "                break\n",
    "            if p == 0 : l += 1\n",
    "            else : r -= 1\n",
    "            d -= 1\n",
    "    lst = lst[l:r]\n",
    "    if p != 0 : lst.reverse()\n",
    "    if flg : print('['+','.join(lst)+']')\n",
    " ```"
   ]
  }
 ],
 "metadata": {
  "kernelspec": {
   "display_name": "Python 3",
   "language": "python",
   "name": "python3"
  },
  "language_info": {
   "codemirror_mode": {
    "name": "ipython",
    "version": 3
   },
   "file_extension": ".py",
   "mimetype": "text/x-python",
   "name": "python",
   "nbconvert_exporter": "python",
   "pygments_lexer": "ipython3",
   "version": "3.8.3"
  }
 },
 "nbformat": 4,
 "nbformat_minor": 4
}
