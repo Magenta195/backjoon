{
 "cells": [
  {
   "cell_type": "markdown",
   "metadata": {},
   "source": [
    "# 7569. 토마토\n",
    "\n",
    "### Problem : https://www.acmicpc.net/problem/7569\n",
    "\n",
    "---\n",
    "\n",
    "철수의 토마토 농장에서는 토마토를 보관하는 큰 창고를 가지고 있다. 토마토는 아래의 그림과 같이 격자모양 상자의 칸에 하나씩 넣은 다음, 상자들을 수직으로 쌓아 올려서 창고에 보관한다.\n",
    "\n",
    "창고에 보관되는 토마토들 중에는 잘 익은 것도 있지만, 아직 익지 않은 토마토들도 있을 수 있다. 보관 후 하루가 지나면, 익은 토마토들의 인접한 곳에 있는 익지 않은 토마토들은 익은 토마토의 영향을 받아 익게 된다. 하나의 토마토에 인접한 곳은 위, 아래, 왼쪽, 오른쪽, 앞, 뒤 여섯 방향에 있는 토마토를 의미한다. 대각선 방향에 있는 토마토들에게는 영향을 주지 못하며, 토마토가 혼자 저절로 익는 경우는 없다고 가정한다. 철수는 창고에 보관된 토마토들이 며칠이 지나면 다 익게 되는지 그 최소 일수를 알고 싶어 한다.\n",
    "\n",
    "토마토를 창고에 보관하는 격자모양의 상자들의 크기와 익은 토마토들과 익지 않은 토마토들의 정보가 주어졌을 때, 며칠이 지나면 토마토들이 모두 익는지, 그 최소 일수를 구하는 프로그램을 작성하라. 단, 상자의 일부 칸에는 토마토가 들어있지 않을 수도 있다.\n",
    "\n",
    "\n",
    "---\n",
    "\n",
    "### 입력\n",
    "\n",
    "첫 줄에는 상자의 크기를 나타내는 두 정수 M,N과 쌓아올려지는 상자의 수를 나타내는 H가 주어진다. M은 상자의 가로 칸의 수, N은 상자의 세로 칸의 수를 나타낸다. 단, 2 ≤ M ≤ 100, 2 ≤ N ≤ 100, 1 ≤ H ≤ 100 이다. 둘째 줄부터는 가장 밑의 상자부터 가장 위의 상자까지에 저장된 토마토들의 정보가 주어진다. 즉, 둘째 줄부터 N개의 줄에는 하나의 상자에 담긴 토마토의 정보가 주어진다. 각 줄에는 상자 가로줄에 들어있는 토마토들의 상태가 M개의 정수로 주어진다. 정수 1은 익은 토마토, 정수 0 은 익지 않은 토마토, 정수 -1은 토마토가 들어있지 않은 칸을 나타낸다. 이러한 N개의 줄이 H번 반복하여 주어진다.\n",
    "\n",
    "토마토가 하나 이상 있는 경우만 입력으로 주어진다.\n",
    "\n",
    "### 출력\n",
    "\n",
    "여러분은 토마토가 모두 익을 때까지 최소 며칠이 걸리는지를 계산해서 출력해야 한다. 만약, 저장될 때부터 모든 토마토가 익어있는 상태이면 0을 출력해야 하고, 토마토가 모두 익지는 못하는 상황이면 -1을 출력해야 한다."
   ]
  },
  {
   "cell_type": "markdown",
   "metadata": {},
   "source": [
    "---\n",
    "\n",
    "### 문제 접근법\n",
    "\n",
    "3D 차원에서 모든 익은 토마토(1)를 기저로 하여 BFS를 진행하면 쉽게 풀리는 문제이다. 만약 BFS 과정이 끝난 후 V에 0이 하나라도 남아있다면 토마토는 익지 못하므로 (-1)를 출력한다.\n",
    "구체적인 코드는 다음과 같이 작성하였다."
   ]
  },
  {
   "cell_type": "code",
   "execution_count": 3,
   "metadata": {},
   "outputs": [
    {
     "name": "stdout",
     "output_type": "stream",
     "text": [
      "5 3 2\n",
      "0 0 0 0 0\n",
      "0 0 1 0 0\n",
      "0 0 0 0 0\n",
      "0 0 0 0 0\n",
      "0 0 0 0 0\n",
      "0 0 0 0 0\n",
      "4\n"
     ]
    }
   ],
   "source": [
    "import sys\n",
    "from collections import deque\n",
    "# input = sys.stdin.readline\n",
    "\n",
    "m, n, h = map(int, input().split())\n",
    "v = [[[x for x in map(int, input().split())] for _ in range(n)] for _ in range(h)]\n",
    "q = deque()\n",
    "\n",
    "dx = [-1, 1, 0, 0, 0, 0]\n",
    "dy = [0, 0, -1, 1, 0, 0]\n",
    "dz = [0, 0, 0, 0, -1, 1]\n",
    "\n",
    "for k in range(h):\n",
    "    for j in range(n):\n",
    "        for i in range(m):\n",
    "            if v[k][j][i] == 1:\n",
    "                q.append((i, j, k))\n",
    "\n",
    "while q :\n",
    "    x, y, z = q.popleft()\n",
    "    for i in range(6):\n",
    "        ax = x+dx[i]\n",
    "        ay = y+dy[i]\n",
    "        az = z+dz[i]\n",
    "        if ax<0 or ay<0 or az<0 or ax>m-1 or ay>n-1 or az>h-1:\n",
    "            continue\n",
    "        if v[az][ay][ax] != 0:\n",
    "            continue\n",
    "        v[az][ay][ax] = v[z][y][x] + 1\n",
    "        q.append((ax, ay, az))\n",
    "\n",
    "cnt = -1\n",
    "flg = False\n",
    "for k in v:\n",
    "    for j in k:\n",
    "        for i in j:\n",
    "            if i == 0:\n",
    "                flg = True\n",
    "            cnt = max(cnt,i)\n",
    "\n",
    "if flg :\n",
    "    print(-1)\n",
    "elif cnt == -1:\n",
    "    print(0)\n",
    "else:\n",
    "    print(-1 if flg else cnt-1)"
   ]
  },
  {
   "cell_type": "markdown",
   "metadata": {},
   "source": [
    "### NOTE\n",
    "\n",
    "기존 내 방식대로 풀이하니 시간초과가 떴다. 몇 가지 예외처리 및 방식을 다르게 하니 통과... 파이썬이 느리긴 한가보다."
   ]
  }
 ],
 "metadata": {
  "kernelspec": {
   "display_name": "Python 3",
   "language": "python",
   "name": "python3"
  },
  "language_info": {
   "codemirror_mode": {
    "name": "ipython",
    "version": 3
   },
   "file_extension": ".py",
   "mimetype": "text/x-python",
   "name": "python",
   "nbconvert_exporter": "python",
   "pygments_lexer": "ipython3",
   "version": "3.8.3"
  }
 },
 "nbformat": 4,
 "nbformat_minor": 4
}
